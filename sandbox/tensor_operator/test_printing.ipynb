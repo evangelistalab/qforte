{
 "cells": [
  {
   "cell_type": "code",
   "execution_count": 1,
   "metadata": {},
   "outputs": [],
   "source": [
    "import qforte as qf"
   ]
  },
  {
   "cell_type": "code",
   "execution_count": 2,
   "metadata": {},
   "outputs": [],
   "source": [
    "dim = 2\n",
    "max_nbody = 1\n",
    "is_spatial = False\n",
    "is_restricted = False\n",
    "\n",
    "Top = qf.TensorOperator(dim, max_nbody)"
   ]
  },
  {
   "cell_type": "code",
   "execution_count": 3,
   "metadata": {},
   "outputs": [
    {
     "name": "stdout",
     "output_type": "stream",
     "text": [
      "\u0001 )\f\u000b\u0001\u0001\u0001\u0002\u0001\t\u0007\n",
      "\n",
      "Tensor: zero-body\n",
      "  Ndim  = 2\n",
      "  Size  = 1\n",
      "  Shape = (1,1)\n",
      "\n",
      "  Data:\n",
      "\n",
      "                   0\n",
      "      0    0.0000000\n",
      "\n"
     ]
    }
   ],
   "source": [
    "print(Top)"
   ]
  },
  {
   "cell_type": "code",
   "execution_count": null,
   "metadata": {},
   "outputs": [],
   "source": []
  }
 ],
 "metadata": {
  "kernelspec": {
   "display_name": "qforte_env_v1",
   "language": "python",
   "name": "python3"
  },
  "language_info": {
   "codemirror_mode": {
    "name": "ipython",
    "version": 3
   },
   "file_extension": ".py",
   "mimetype": "text/x-python",
   "name": "python",
   "nbconvert_exporter": "python",
   "pygments_lexer": "ipython3",
   "version": "3.8.16"
  },
  "orig_nbformat": 4,
  "vscode": {
   "interpreter": {
    "hash": "88cd6619af06ee4d272274ee0ba656d0f75270381985d71bfada16d3d49b5c9c"
   }
  }
 },
 "nbformat": 4,
 "nbformat_minor": 2
}
