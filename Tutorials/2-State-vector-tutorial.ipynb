{
 "cells": [
  {
   "cell_type": "code",
   "execution_count": 1,
   "id": "spectacular-sphere",
   "metadata": {},
   "outputs": [],
   "source": [
    "import qforte as qf"
   ]
  },
  {
   "cell_type": "markdown",
   "id": "written-cambodia",
   "metadata": {},
   "source": [
    "$$\n",
    "\\newcommand{\\ket}[1]{\\left|{#1}\\right\\rangle}\n",
    "\\newcommand{\\bra}[1]{\\left\\langle{#1}\\right|}\n",
    "$$"
   ]
  },
  {
   "cell_type": "markdown",
   "id": "greenhouse-discharge",
   "metadata": {},
   "source": [
    "# QForte's state-vector simulator"
   ]
  },
  {
   "cell_type": "markdown",
   "id": "revised-relation",
   "metadata": {},
   "source": [
    "State vector simulators are among some of the most common quantum computer simulators employed today. \n",
    "While many such simulators rely (mostly) on sparse tensor operations, QForte takes an approach that closer resembles modern FCI implementations.\n",
    "\n",
    "The state vector itself is encompassed by the `Computer` class, which stores a complex vector `coeff_`, as well as a vector of `QubitBasis` objects (both of dimension $2^{n_\\mathrm{qb}}$).\n",
    "\n",
    "One can then apply a `Gate`, `Circuit`, or `QubitOperator` to transform the state vector by modifying `coeff_`.\n",
    "We will demonstrate some key examples of this in this tutorial.\n"
   ]
  },
  {
   "cell_type": "markdown",
   "id": "british-assignment",
   "metadata": {},
   "source": [
    "## A note on the QuantumBasis class\n",
    "\n"
   ]
  },
  {
   "cell_type": "markdown",
   "id": "literary-expert",
   "metadata": {},
   "source": [
    "The `QubitBasis` class represents tensor product elements of the Fock space basis (in particle number representation).\n",
    "Notably, a single basis is stored by the `state_` attribute, and is of type 64 bit unsigned long.\n",
    "Using this data type allows for efficient bitwise operations.\n",
    "\n",
    "Usage of `QubitBasis` is captured by the following example:\n",
    "\n",
    "> Instantiate a `QubitBasis` object that gives the binary representation of several integers [0, 1, 2, and 12], and print the basis with respect to a six qubit system. Note that a `QubitBasis` must be printed using the `str(x)` function, where `x` is an intager specifying the number of qubits to print. "
   ]
  },
  {
   "cell_type": "code",
   "execution_count": 2,
   "id": "moved-unknown",
   "metadata": {},
   "outputs": [
    {
     "name": "stdout",
     "output_type": "stream",
     "text": [
      "|000000> \n",
      "\n",
      "|100000> \n",
      "\n",
      "|010000> \n",
      "\n",
      "|001100> \n",
      "\n"
     ]
    }
   ],
   "source": [
    "qbasis_0 = qf.QubitBasis(0)\n",
    "print(qbasis_0.str(6), '\\n')\n",
    "\n",
    "qbasis_1 = qf.QubitBasis(1)\n",
    "print(qbasis_1.str(6), '\\n')\n",
    "\n",
    "qbasis_2 = qf.QubitBasis(2)\n",
    "print(qbasis_2.str(6), '\\n')\n",
    "\n",
    "qbasis_12 = qf.QubitBasis(12)\n",
    "print(qbasis_12.str(6), '\\n')"
   ]
  },
  {
   "cell_type": "markdown",
   "id": "disturbed-privacy",
   "metadata": {},
   "source": [
    "> Flip the bit in position 3rd of qbasis_12."
   ]
  },
  {
   "cell_type": "code",
   "execution_count": 3,
   "id": "complex-floating",
   "metadata": {},
   "outputs": [
    {
     "name": "stdout",
     "output_type": "stream",
     "text": [
      "|000100> \n",
      "\n"
     ]
    }
   ],
   "source": [
    "qbasis_12.flip_bit(2)\n",
    "print(qbasis_12.str(6), '\\n')"
   ]
  },
  {
   "cell_type": "markdown",
   "id": "french-gardening",
   "metadata": {},
   "source": [
    "## The QuantumComputer class"
   ]
  },
  {
   "cell_type": "markdown",
   "id": "macro-shock",
   "metadata": {},
   "source": [
    "The `Computer` class is the central class in QForte in that it is used for essentially all applications. The core attributes of this class are the vector of complex coefficients `coeff_`, and the corresponding vector of `QubitBasis` objects that represent each basis element of the Fock space.  \n",
    "\n",
    "> Instantiate a `Computer` with four qubits and print the representation. Note that we always initialize to the vacuum."
   ]
  },
  {
   "cell_type": "code",
   "execution_count": 4,
   "id": "monetary-farmer",
   "metadata": {},
   "outputs": [
    {
     "name": "stdout",
     "output_type": "stream",
     "text": [
      "Computer(\n",
      "+1.000000 |0000>\n",
      ")\n"
     ]
    }
   ],
   "source": [
    "nqb = 4\n",
    "qcomp = qf.Computer(nqb)\n",
    "\n",
    "# qf.smart_print(qcomp)\n",
    "print(qcomp)"
   ]
  },
  {
   "cell_type": "markdown",
   "id": "painted-preliminary",
   "metadata": {},
   "source": [
    "## Manipulating the state vector"
   ]
  },
  {
   "cell_type": "markdown",
   "id": "defined-group",
   "metadata": {},
   "source": [
    "Once the `Computer` is initialized we can manipulate the state vector by applying `Gate`s, `Circuit`s and `QuantumOperaotrs`s. As a small example we will demonstrate how to construct the two qubit Bell state \n",
    "\\begin{equation}\n",
    "\\ket{\\Psi_\\rm{Bell}} = \\frac{1}{\\sqrt{2}}\\ket{00} + \\frac{1}{\\sqrt{2}}\\ket{11}\n",
    "\\end{equation}\n",
    "using QForte.\n",
    "\n",
    "Recall that the action of the controlled $\\hat{X}$ Pauli gate [with target qubit 0, and control qubit 1 ($c\\hat{X}_{0,1}$)] is:\n",
    "\\begin{equation}\n",
    "c\\hat{X}_{0,1}\\ket{00} = \\ket{00}\n",
    "\\end{equation}\n",
    "\\begin{equation}\n",
    "c\\hat{X}_{0,1}\\ket{01} = \\ket{11},\n",
    "\\end{equation}\n",
    "Recall that the action of the Hadamard gate $\\hat{H}$ is:\n",
    "\\begin{equation}\n",
    "\\hat{H}\\ket{0} = \\frac{1}{\\sqrt{2}} \\big( \\ket{0} + \\ket{1} \\big)\n",
    "\\end{equation}\n",
    "\\begin{equation}\n",
    "\\hat{H}\\ket{1} = \\frac{1}{\\sqrt{2}} \\big( \\ket{0} - \\ket{1} \\big)\n",
    "\\end{equation}\n",
    "\n",
    "> Initialize the bell state using elementary gates."
   ]
  },
  {
   "cell_type": "code",
   "execution_count": 5,
   "id": "professional-virtue",
   "metadata": {},
   "outputs": [
    {
     "name": "stdout",
     "output_type": "stream",
     "text": [
      "Computer(\n",
      "+1.000000 |00>\n",
      ")\n",
      "Computer(\n",
      "+0.707107 |00>\n",
      "+0.707107 |10>\n",
      ")\n",
      "Computer(\n",
      "+0.707107 |00>\n",
      "+0.707107 |11>\n",
      ")\n"
     ]
    }
   ],
   "source": [
    "# First, initialize and print the state of the QuantumComputer.\n",
    "nqb = 2\n",
    "qbell = qf.Computer(nqb)\n",
    "print(qbell)\n",
    "\n",
    "# Initailize the gates needed to build the Bell state.\n",
    "H_0 = qf.gate('H', 0)\n",
    "cX_0_1 = qf.gate('cX', 1 , 0)\n",
    "\n",
    "# Apply the Hadamrad gate and print.\n",
    "qbell.apply_gate(H_0)\n",
    "print(qbell)\n",
    "\n",
    "# Finally, apply the CNOT (cX) gate and print the Bell state.\n",
    "qbell.apply_gate(cX_0_1)\n",
    "print(qbell)"
   ]
  },
  {
   "cell_type": "markdown",
   "id": "placed-tanzania",
   "metadata": {},
   "source": [
    "## Another circuit design exercise "
   ]
  },
  {
   "cell_type": "markdown",
   "id": "prospective-luxembourg",
   "metadata": {},
   "source": [
    "Another useful circuit $\\hat{U}_\\mathrm{split}$ is one which is able to prepare a simple superposition of two quantum basis states \n",
    "\\begin{equation}\n",
    "\\ket{\\Phi_I} = \\ket{q_0q_1..q_{n-1}}; q_i \\in \\{0,1\\} \n",
    "\\end{equation}\n",
    "\n",
    "such that the state on the quantum computer is given by\n",
    "\n",
    "\\begin{equation}\n",
    "\\ket{\\Psi} = \\frac{1}{\\sqrt{2}} \\ket{\\Phi_I} + \\frac{1}{\\sqrt{2}} \\ket{\\Phi_J} = \\hat{U}_\\mathrm{split} \\ket{\\bar{0}}.\n",
    "\\end{equation}\n",
    "\n",
    "Some examples are determination of (certain) off diagonal matrix elements, or preparation of references with more than one basis state in quantum simulation algorithms. \n",
    "\n",
    "> Write a function that takes in two bit lists A and B (representing the qubit configurations of $\\Phi_I$ and $\\Phi_J$ that are of equal length and particle-number) and returns the circuit $\\hat{U}_\\mathrm{split}$. Test this circuit and print the resulting state. **HINT** it may useful to base your strategy on the above construction of the Bell state, and you may also want to use the \"open\" CNOT gate\n",
    "\\begin{equation}\n",
    "oc\\hat{X}_{\\mathrm{t},\\mathrm{c}}  = \\hat{X}_\\mathrm{c} c \\hat{X}_\\mathrm{t,c} \\hat{X}_\\mathrm{c}\n",
    "\\end{equation}\n",
    "which has the action, \n",
    "\\begin{equation}\n",
    "oc\\hat{X}_{0,1}\\ket{00} = \\ket{10}\n",
    "\\end{equation}\n",
    "\\begin{equation}\n",
    "oc\\hat{X}_{0,1}\\ket{01} = \\ket{01}.\n",
    "\\end{equation}"
   ]
  },
  {
   "cell_type": "code",
   "execution_count": 6,
   "id": "corresponding-newton",
   "metadata": {},
   "outputs": [],
   "source": [
    "def get_Usplit(A, B):\n",
    "    \n",
    "    # Define the return circuit\n",
    "    Usplit = qf.Circuit()\n",
    "    \n",
    "    if (len(A) != len(B)) or (sum(A) != sum(B)) or (A==B):\n",
    "        raise ValueError(\"A and B must have the same length, the same particle-number, and be different states.\")\n",
    "        \n",
    "    nqb = len(A)\n",
    "        \n",
    "    # Make list of dissimilar bits and which state has dissimilar bit set to 1.\n",
    "    diff_bits = []\n",
    "    ones_bits = []\n",
    "    for i in range(nqb):\n",
    "        if(A[i] != B[i]):\n",
    "            if(A[i]):\n",
    "                diff_bits.append((i,'A'))\n",
    "            else:\n",
    "                diff_bits.append((i,'B'))\n",
    "        \n",
    "        elif(A[i]==B[i]==1):       \n",
    "            ones_bits.append(i)    \n",
    "    \n",
    "    # Add the Hadamard gate that will split the state around the first dissimilar qubit\n",
    "    Usplit.add_gate(qf.gate('H', diff_bits[0][0]))\n",
    "    \n",
    "    for k in range(1, len(diff_bits)):\n",
    "        \n",
    "        if diff_bits[k][1]==diff_bits[k-1][1]:\n",
    "            Usplit.add_gate(qf.gate('cX',diff_bits[k][0], diff_bits[k-1][0]))\n",
    "        \n",
    "        else:\n",
    "            Usplit.add_gate(qf.gate('X',diff_bits[k-1][0]))\n",
    "            Usplit.add_gate(qf.gate('cX',diff_bits[k][0],diff_bits[k-1][0]))\n",
    "            Usplit.add_gate(qf.gate('X',diff_bits[k-1][0]))\n",
    "    \n",
    "    # Finally flip all the bits that are supposed to be 1.\n",
    "    for p in ones_bits:\n",
    "        Usplit.add_gate(qf.gate('X', p))\n",
    "    \n",
    "    return Usplit\n",
    "    \n",
    "    "
   ]
  },
  {
   "cell_type": "markdown",
   "id": "available-organization",
   "metadata": {},
   "source": [
    "Now test your funciton"
   ]
  },
  {
   "cell_type": "code",
   "execution_count": 7,
   "id": "elementary-wings",
   "metadata": {},
   "outputs": [
    {
     "name": "stdout",
     "output_type": "stream",
     "text": [
      "Computer(\n",
      "+0.707107 |1100>\n",
      "+0.707107 |0011>\n",
      ")\n"
     ]
    }
   ],
   "source": [
    "# Try these\n",
    "A1 = [1,1,0,0]\n",
    "B1 = [0,0,1,1]\n",
    "\n",
    "A2 = [1,1,0,0,1,1,0,1]\n",
    "B2 = [1,1,1,1,0,1,0,0]\n",
    "\n",
    "Usplit = get_Usplit(A1, B1) \n",
    "qc = qf.Computer(len(A1))\n",
    "qc.apply_circuit(Usplit)\n",
    "print(qc)"
   ]
  }
 ],
 "metadata": {
  "kernelspec": {
   "display_name": "qforte_env_v1",
   "language": "python",
   "name": "python3"
  },
  "language_info": {
   "codemirror_mode": {
    "name": "ipython",
    "version": 3
   },
   "file_extension": ".py",
   "mimetype": "text/x-python",
   "name": "python",
   "nbconvert_exporter": "python",
   "pygments_lexer": "ipython3",
   "version": "3.8.16"
  }
 },
 "nbformat": 4,
 "nbformat_minor": 5
}
