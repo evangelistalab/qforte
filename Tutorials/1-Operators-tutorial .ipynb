{
 "cells": [
  {
   "cell_type": "code",
   "execution_count": 1,
   "id": "spectacular-sphere",
   "metadata": {},
   "outputs": [],
   "source": [
    "import qforte as qf\n",
    "from qforte import *"
   ]
  },
  {
   "cell_type": "markdown",
   "id": "written-cambodia",
   "metadata": {},
   "source": [
    "$$\n",
    "\\newcommand{\\ket}[1]{\\left|{#1}\\right\\rangle}\n",
    "\\newcommand{\\bra}[1]{\\left\\langle{#1}\\right|}\n",
    "$$"
   ]
  },
  {
   "cell_type": "markdown",
   "id": "greenhouse-discharge",
   "metadata": {},
   "source": [
    "# Gate, Circuits, and Operators"
   ]
  },
  {
   "cell_type": "markdown",
   "id": "revised-relation",
   "metadata": {},
   "source": [
    "This notebook is a tutorial for the use of gates, circuits, and operators in QForte. \n",
    "It will therefore focus on usage of the three corresponding classes `QuantumGate`, `QuantumCircuit`, and `QuantumOperator`.\n",
    "All three classes are implemented in C++ but are exposed in Python for ease of use.\n",
    "It will also discuss the usage of second quantized operators (via the `SQOperator` class) and how it relates to the other classes."
   ]
  },
  {
   "cell_type": "markdown",
   "id": "british-assignment",
   "metadata": {},
   "source": [
    "## Quantum gates\n",
    "\n"
   ]
  },
  {
   "cell_type": "markdown",
   "id": "literary-expert",
   "metadata": {},
   "source": [
    "QForte, like many packages related to quantum simulation (or more generally any subfield of quantum computing) uses a class that represents elementary quantum gates.\n",
    "The `QuantumGate` is the most fundamental building block for all quantum algorithms in QForte.\n",
    "Some of the most pertinent to quantum simulation are the Pauli gates ($\\hat{Z}$, $\\hat{Y}$, and $\\hat{Z}$), the Hadamard gate $\\hat{H}$, the controlled NOT [CNOT] gate, and the parametric z rotation gate $\\hat{R}_z(\\theta)$. A full list of gates can be found in the QForte documentation.\n",
    "Note that all quantum gates represent *unitary* operations.\n",
    "\n",
    "The `QuantumGate` class has several important attributes including a string (`label_`) which gives its identity, the integer `target_` and `control_` qubit indices, and the matrix of complex values `gate_`.\n",
    "Instantiating a `QuantumGate` is simple, and is done via the `make_gate()` member function.\n",
    "\n",
    "Consider the following examples:\n",
    "> instantiate the Pauli $\\hat{X}$ gate that will target the qubit $q_4$ and print its representation using the `str()` function."
   ]
  },
  {
   "cell_type": "code",
   "execution_count": 2,
   "id": "moved-unknown",
   "metadata": {},
   "outputs": [
    {
     "name": "stdout",
     "output_type": "stream",
     "text": [
      "X4\n"
     ]
    }
   ],
   "source": [
    "# Specify target and controll qubits\n",
    "target_idx = 4\n",
    "control_idx = 4\n",
    "\n",
    "X_4gate = qf.make_gate('X', target_idx, control_idx)\n",
    "\n",
    "print(X_4gate.str())"
   ]
  },
  {
   "cell_type": "markdown",
   "id": "disturbed-privacy",
   "metadata": {},
   "source": [
    "**NOTE:** for single qubit gates (such as the Pauli gates), one passes the same value for the target and control index.\n",
    "\n",
    "> Instantiate the CNOT gate that will target the qubit $q_4$ and use the qubit $q_1$ as a control."
   ]
  },
  {
   "cell_type": "code",
   "execution_count": 3,
   "id": "complex-floating",
   "metadata": {},
   "outputs": [
    {
     "name": "stdout",
     "output_type": "stream",
     "text": [
      "CNOT4_1\n"
     ]
    }
   ],
   "source": [
    "# Specify target and controll qubits\n",
    "target_idx = 4\n",
    "control_idx = 1\n",
    "\n",
    "CNOT_4_1gate = qf.make_gate('CNOT', target_idx, control_idx)\n",
    "\n",
    "print(CNOT_4_1gate.str())"
   ]
  },
  {
   "cell_type": "markdown",
   "id": "french-gardening",
   "metadata": {},
   "source": [
    "## Quantum circuits"
   ]
  },
  {
   "cell_type": "markdown",
   "id": "macro-shock",
   "metadata": {},
   "source": [
    "Mathematically speaking, a quantum circuit, commonly referred to as a unitary ($\\hat{U}$), is represented by a product of quantum gates, making the overall circuit itself a unitary operation.\n",
    "The `QuantumCircuit` class operates at one level above the `QuantumGate` class. The primary attribute is the vector `gates_` of `QuantumGate` objects. \n",
    "\n",
    "\n",
    "For example:\n",
    "\n",
    "> One can instantiate an empty `QuantumCircuit` without the use of a maker function."
   ]
  },
  {
   "cell_type": "code",
   "execution_count": 4,
   "id": "monetary-farmer",
   "metadata": {},
   "outputs": [],
   "source": [
    "circ = qf.QuantumCircuit()"
   ]
  },
  {
   "cell_type": "markdown",
   "id": "motivated-flooring",
   "metadata": {},
   "source": [
    "> Add a gate via the `add_gate()` member function."
   ]
  },
  {
   "cell_type": "code",
   "execution_count": 5,
   "id": "vertical-thunder",
   "metadata": {},
   "outputs": [
    {
     "name": "stdout",
     "output_type": "stream",
     "text": [
      "[X4 CNOT4_1]\n"
     ]
    }
   ],
   "source": [
    "circ.add_gate(X_4gate)\n",
    "circ.add_gate(CNOT_4_1gate)\n",
    "\n",
    "print(circ.str())"
   ]
  },
  {
   "cell_type": "markdown",
   "id": "deadly-leisure",
   "metadata": {},
   "source": [
    "## Circuits for exponenntial operators."
   ]
  },
  {
   "cell_type": "markdown",
   "id": "agricultural-crisis",
   "metadata": {},
   "source": [
    "Although any product of elementary gates technically constitutes a circuit, one of the most important circuit structures in quantum simulation is that which represents unitiaries of the form\n",
    "\\begin{equation}\n",
    "\\label{eq:exp_pt}\n",
    "e^{i \\theta_\\ell \\hat{P}_\\ell} \n",
    "%= e^{\\theta_\\ell \\prod_k^{n_\\ell}  \\hat{V}^{(\\ell) \\dagger}_k \\hat{Z}^{(\\ell)}_k \\hat{V}^{(\\ell)}_k}\n",
    "= \\Bigg(\\prod_k^{n_\\ell} \\hat{V}_k^{(\\ell)} \\Bigg)^\\dagger \\Bigg(\\prod_k^{n_\\ell-1} c\\hat{X}_{k, k+1}^{(\\ell)} \\Bigg)^\\dagger \\hat{R}_z(2 \\theta_\\ell) \\Bigg(\\prod_k^{n_\\ell-1} c\\hat{X}_{k, k+1}^{(\\ell)} \\Bigg) \\Bigg(\\prod_k^{n_\\ell} \\hat{V}_k^{(\\ell)} \\Bigg),\n",
    "\\end{equation} \n",
    "where\n",
    "\\begin{equation}\n",
    "\\hat{P}_\\ell = \\prod_k^{n_\\ell} \\hat{\\sigma}^{(\\ell)}_k\n",
    "\\end{equation}\n",
    "is a unique product of $n_\\ell$ Pauli operators  ($\\hat{X}$, $\\hat{Y}$, or $\\hat{Z}$). \n",
    "In this case, $k=(p, [X, Y,$ or $ Z])$ is a compound index over the products in a term $\\hat{P}_\\ell$ and denotes the qubit ($p$) and specific Pauli gate.\n",
    "The transformation unitary $\\hat{V}^{(\\ell)}_k$ is a one qubit gate that transforms $\\hat{X}$ or $\\hat{Y}$ into $\\hat{Z}$.\n",
    "\n",
    "\n",
    "In QForte this requires one to pass a coefficient and q `QuantumCircuit` to the utility function `exponentiate_single_term().`\n",
    "\n",
    "> Build the circuit corresponding to $\\exp(-i 0.5 \\hat{X}_3 \\hat{Z}_2 \\hat{Z}_1 \\hat{Z}_0)$ "
   ]
  },
  {
   "cell_type": "code",
   "execution_count": 6,
   "id": "canadian-vaccine",
   "metadata": {},
   "outputs": [
    {
     "name": "stdout",
     "output_type": "stream",
     "text": [
      "\n",
      " The origional unitary circuit \n",
      " [Z0 Z1 Z2 X3]\n",
      "\n",
      " The exponential unitary circuit \n",
      " [H3 cX1_0 cX2_1 cX3_2 Rz3 cX3_2 cX2_1 cX1_0 H3]\n"
     ]
    }
   ],
   "source": [
    "# Construct the desired preliminary circuit (X3 Z2 Z1 Z0)\n",
    "circ = qf.QuantumCircuit()\n",
    "circ.add_gate(qf.make_gate('Z', 0, 0))\n",
    "circ.add_gate(qf.make_gate('Z', 1, 1))\n",
    "circ.add_gate(qf.make_gate('Z', 2, 2))\n",
    "circ.add_gate(qf.make_gate('X', 3, 3))\n",
    "print('\\n The origional unitary circuit \\n',circ.str())\n",
    "\n",
    "# Define the factor (-i theta)\n",
    "theta = 0.5\n",
    "factor = -1.0j * theta\n",
    "\n",
    "# Construct the unitary for the exonential\n",
    "Uexp, phase = exponentiate_single_term(factor, circ)\n",
    "print('\\n The exponential unitary circuit \\n',Uexp.str())"
   ]
  },
  {
   "cell_type": "markdown",
   "id": "grand-speaking",
   "metadata": {},
   "source": [
    "## Quantum operators"
   ]
  },
  {
   "cell_type": "markdown",
   "id": "adverse-tablet",
   "metadata": {},
   "source": [
    "The outer-most operations class in QForte is the `QuantumOperator` class. Again, mathematically speaking, a generic quantum operator $\\hat{O}$ is given by a linear combination of $N_\\ell$ unitiaries ($\\hat{U}_\\ell$) as\n",
    "\\begin{equation}\n",
    "\\hat{O} = \\sum_\\ell u_\\ell \\hat{U}_\\ell,\n",
    "\\end{equation}\n",
    "where $u_\\ell$ is a complex coefficient.\n",
    "It is important to note that applying a `QuantumOperator` to a quantum state is in general **not a physically valid** operation.\n",
    "\n",
    "The key attribute of the`QuantumOperator` class is `terms_`: a vector of pairs of the form `<complex::double, QuantumCircuit>`.\n",
    "Importantly the `QuanntumOperator` class is used to represent important objects such as the Hamiltonian $\\hat{\\mathcal{H}}$ or the cluster operator $\\hat{T}$ in QForte's algorithmic implementations.\n",
    "\n",
    "> An empty `QuantumOperator` can  likewise be instantiated without a maker function "
   ]
  },
  {
   "cell_type": "code",
   "execution_count": 7,
   "id": "academic-origin",
   "metadata": {},
   "outputs": [],
   "source": [
    "q_op = qf.QuantumOperator()"
   ]
  },
  {
   "cell_type": "markdown",
   "id": "meaningful-wrong",
   "metadata": {},
   "source": [
    "> And can be appended with a new coefficient and circuit via `add_term()` or with an existing operator via `add_op()`. "
   ]
  },
  {
   "cell_type": "code",
   "execution_count": 8,
   "id": "brown-basics",
   "metadata": {},
   "outputs": [
    {
     "name": "stdout",
     "output_type": "stream",
     "text": [
      "+0.500000[0 1 2 3]\n",
      "+0.500000j[0 1 2 3]\n"
     ]
    }
   ],
   "source": [
    "u1 = 0.5\n",
    "u2 = 0.5j\n",
    "\n",
    "q_op.add_term(u1, circ)\n",
    "q_op.add_term(u2, circ)\n",
    "\n",
    "print(q_op.str())"
   ]
  },
  {
   "cell_type": "markdown",
   "id": "facial-weather",
   "metadata": {},
   "source": [
    "## Second quantized operators"
   ]
  },
  {
   "cell_type": "markdown",
   "id": "dominican-gardening",
   "metadata": {},
   "source": [
    "QForte also supports operators in the form of second quantization, that is, operators comprised of fermionic annihilation ($\\hat{a}_p$) and creation ($\\hat{a}_p^\\dagger$) operators. \n",
    "The `SQOperator` class functions very similarly to the `QuantumOperator` class, but utilizes slightly different syntax.\n",
    "\n",
    "**NOTE:** Second quantized operators in QForte always assume (i) that particle number is conserved (i.e. each term of the quantum operator must have an even number of annihilators and creators), and (ii) that the individual fermionic operators are normal ordered within a term."
   ]
  },
  {
   "cell_type": "code",
   "execution_count": 9,
   "id": "liable-monster",
   "metadata": {},
   "outputs": [],
   "source": [
    "sq_op = qf.SQOperator()"
   ]
  },
  {
   "cell_type": "code",
   "execution_count": 10,
   "id": "accurate-brunei",
   "metadata": {},
   "outputs": [
    {
     "name": "stdout",
     "output_type": "stream",
     "text": [
      " +0.500000 ( 1^ 2 )\n",
      " -0.250000j ( 4^ 2^ 3 1 )\n",
      "\n"
     ]
    }
   ],
   "source": [
    "h1 = 0.5 \n",
    "a1 = [1,2]\n",
    "\n",
    "h2 = -0.25j\n",
    "a2 = [4,2,3,1]\n",
    "\n",
    "sq_op.add_term(h1, a1) \n",
    "sq_op.add_term(h2, a2) \n",
    "\n",
    "print(sq_op.str())"
   ]
  },
  {
   "cell_type": "markdown",
   "id": "rotary-bruce",
   "metadata": {},
   "source": [
    "The second quantized operators can then be transformed to the quantum operator representation (given as a linear combination of products of Pauli operators) via the Jordan-Wigner transformation.\n",
    "Under this transformation, there is a one-to-one mapping between a spin orbital $\\phi_p$ and qubit $q_p$ such that the fermionic annihilation ($\\hat{a}_{p}$) and creation ($\\hat{a}^{\\dagger}_{p}$) operators are represented by\n",
    "\\begin{equation}\n",
    "\\hat{a}_{p} = \\frac{1}{2} \\Big( \\hat{X}_p + i \\hat{Y}_p \\Big) \\hat{Z}_{p-1} \\dots \\hat{Z}_0, \n",
    "\\end{equation}\n",
    "and,\n",
    "\\begin{equation}\n",
    "\\hat{a}^{\\dagger}_{p} = \\frac{1}{2} \\Big( \\hat{X}_p - i \\hat{Y}_p \\Big) \\hat{Z}_{p-1} \\dots \\hat{Z}_0. \n",
    "\\end{equation}\n",
    "\n",
    "> Print the operator defined above as qubit operators after applying the Jordan-Wigner transformation."
   ]
  },
  {
   "cell_type": "code",
   "execution_count": 11,
   "id": "opening-highway",
   "metadata": {
    "scrolled": true
   },
   "outputs": [
    {
     "name": "stdout",
     "output_type": "stream",
     "text": [
      "+0.015625j[X1 X2 Y3 Y4]\n",
      "-0.015625[Y1 X2 Y3 Y4]\n",
      "+0.015625j[Y1 Y2 X3 X4]\n",
      "+0.015625j[X1 X2 X3 X4]\n",
      "+0.015625[X1 Y2 Y3 Y4]\n",
      "-0.015625[Y1 Y2 Y3 X4]\n",
      "+0.015625j[Y1 Y2 Y3 Y4]\n",
      "+0.015625j[Y1 X2 X3 Y4]\n",
      "-0.015625[Y1 X2 X3 X4]\n",
      "+0.015625[X1 Y2 X3 X4]\n",
      "+0.015625[Y1 Y2 X3 Y4]\n",
      "-0.015625j[Y1 X2 Y3 X4]\n",
      "-0.015625j[X1 Y2 X3 Y4]\n",
      "+0.015625j[X1 Y2 Y3 X4]\n",
      "+0.125000[X1 X2]\n",
      "-0.015625[X1 X2 Y3 X4]\n",
      "+0.125000j[X1 Y2]\n",
      "+0.015625[X1 X2 X3 Y4]\n",
      "-0.125000j[Y1 X2]\n",
      "+0.125000[Y1 Y2]\n"
     ]
    }
   ],
   "source": [
    "pauli_op = sq_op.jw_transform()\n",
    "print(pauli_op.str())"
   ]
  }
 ],
 "metadata": {
  "kernelspec": {
   "display_name": "Python [conda env:opferm2] *",
   "language": "python",
   "name": "conda-env-opferm2-py"
  },
  "language_info": {
   "codemirror_mode": {
    "name": "ipython",
    "version": 3
   },
   "file_extension": ".py",
   "mimetype": "text/x-python",
   "name": "python",
   "nbconvert_exporter": "python",
   "pygments_lexer": "ipython3",
   "version": "3.7.6"
  }
 },
 "nbformat": 4,
 "nbformat_minor": 5
}
