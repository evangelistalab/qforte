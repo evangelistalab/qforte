{
 "cells": [
  {
   "cell_type": "code",
   "execution_count": 44,
   "id": "spectacular-sphere",
   "metadata": {},
   "outputs": [],
   "source": [
    "import qforte as qf\n",
    "import numpy as np"
   ]
  },
  {
   "cell_type": "markdown",
   "id": "written-cambodia",
   "metadata": {},
   "source": [
    "$$\n",
    "\\newcommand{\\ket}[1]{\\left|{#1}\\right\\rangle}\n",
    "\\newcommand{\\bra}[1]{\\left\\langle{#1}\\right|}\n",
    "$$"
   ]
  },
  {
   "cell_type": "markdown",
   "id": "french-gardening",
   "metadata": {},
   "source": [
    "## The FCIComputer class"
   ]
  },
  {
   "cell_type": "markdown",
   "id": "macro-shock",
   "metadata": {},
   "source": [
    "The `FCIComputer` class is a central class in QForte in that it is used for essentially all applications. The core attributes of this class are the matrix of complex coefficients `C_` stored as a Tensor object, and the corresponding FCIGraph.\n",
    "\n",
    "The purpose of the `FCIComputer` is to act as a lower memory variant of the regular (sometimes called fock) `Computer` class. The main distinciton is that only coefficients corresponding to a fixed number of alpha and beta (and of course total) electrons are stored. As such the number of electrons, the number of orbitlas (a proxy for qubits), and twice the total spin are specified by the user upon instantiation. \n",
    "\n",
    "In a addition to memory savings, the `FCIComputer` (and more specifically the corresponding `FCIGraph`) allow for `SQOperator` application to the state using the Knowls-Handy algorithm, where the coupling coefficients are pre-computed and stored in the `FCIGraph` upon instantion of a new `FCIComputer.` This is generally much faster than than apply Pauli gaues to the regular `Computer` class. Sometimes by a factor of ~500. \n",
    "\n",
    "> Instantiate a (Fock) `Computer` with four qubits and print the representation. Note that we always initialize to the vacuum.\n",
    "\n",
    "> Set that Computer to the HF state asuming two electrons and pring the state (remember only non-zero coefficients are printed).\n",
    "\n",
    "> Instantiate a `FCIComputer` with two orbitals (corresponding to four qubits), two electonrs, and zero spin. Set the FCIComputer to the Hartree Fock-state. Print the FCIComputer. "
   ]
  },
  {
   "cell_type": "code",
   "execution_count": 28,
   "id": "monetary-farmer",
   "metadata": {},
   "outputs": [
    {
     "name": "stdout",
     "output_type": "stream",
     "text": [
      "Computer(\n",
      "+1.000000 |1100>\n",
      ")\n",
      "\u0001\u0007\f\u000b\u0001\u0001\u0001\u0002\u0001\t\u0007\n",
      "Tensor: FCI Computer\n",
      "  Ndim  = 2\n",
      "  Size  = 4\n",
      "  Shape = (2,2)\n",
      "\n",
      "  Data:\n",
      "\n",
      "                   0            1\n",
      "      0    1.0000000    0.0000000\n",
      "      1    0.0000000    0.0000000\n"
     ]
    }
   ],
   "source": [
    "# Start with \"Fock\" Computer Construction\n",
    "nqb = 4\n",
    "fock_comp = qf.Computer(nqb)\n",
    "\n",
    "X0 = qf.gate('X', 0)\n",
    "X1 = qf.gate('X', 1)\n",
    "\n",
    "fock_comp.apply_gate(X0)\n",
    "fock_comp.apply_gate(X1)\n",
    "\n",
    "print(fock_comp)\n",
    "\n",
    "# Now for the equivalent FCIComputer\n",
    "nel = 2\n",
    "twos = 0\n",
    "norb = 2\n",
    "\n",
    "fci_comp = qf.FCIComputer(\n",
    "    nel=nel, \n",
    "    sz=twos, \n",
    "    norb=norb)\n",
    "\n",
    "fci_comp.hartree_fock()\n",
    "\n",
    "print(fci_comp)"
   ]
  },
  {
   "cell_type": "markdown",
   "id": "painted-preliminary",
   "metadata": {},
   "source": [
    "## Applying Operators to the FCIComputer"
   ]
  },
  {
   "cell_type": "markdown",
   "id": "2cdcdf17",
   "metadata": {},
   "source": [
    "An importnat distinction from the regular computer class is that you can only apply number (and spin) presrving second quantized operators (i.e. no Pauli gates or Qubit Operators). Lets take a look at how we would do this.\n",
    "\n",
    "> Instantiate a 'SQOpertator' that will constitue a linear combination of a single alpa excitation and a double excitation of one alpha electron and one beta electron. \n",
    "\n",
    "> Apply that operator first to the regular computer you made above, and then the FCIComputer you made above."
   ]
  },
  {
   "cell_type": "code",
   "execution_count": 29,
   "id": "acfac3d7",
   "metadata": {},
   "outputs": [
    {
     "name": "stdout",
     "output_type": "stream",
     "text": [
      " +0.500000 ( 2^ 0 )\n",
      " +0.250000 ( 3^ 2^ 1 0 )\n",
      "\n",
      "Computer(\n",
      "-0.500000 |0110>\n",
      "-0.250000 |0011>\n",
      ")\n",
      "\u0001\u0007\f\u000b\u0001\u0001\u0001\u0002\u0001\t\u0007\n",
      "Tensor: FCI Computer\n",
      "  Ndim  = 2\n",
      "  Size  = 4\n",
      "  Shape = (2,2)\n",
      "\n",
      "  Data:\n",
      "\n",
      "                   0            1\n",
      "      0    0.0000000    0.0000000\n",
      "      1    0.5000000   -0.2500000\n"
     ]
    }
   ],
   "source": [
    "sqop = qf.SQOperator()\n",
    "\n",
    "h1 = 0.5 \n",
    "h2 = 0.25\n",
    "sqop.add_term(h1, [2], [0]) \n",
    "sqop.add_term(h2, [3,2], [1,0]) \n",
    "\n",
    "print(sqop)\n",
    "\n",
    "# Apply to Fock Computer\n",
    "fock_comp.apply_sq_operator(sqop)\n",
    "\n",
    "# Apply to FCIComputer\n",
    "fci_comp.apply_sqop(sqop)\n",
    "\n",
    "# Print both computers and compare the outputs\n",
    "print(fock_comp)\n",
    "print(fci_comp)"
   ]
  },
  {
   "cell_type": "markdown",
   "id": "a8b528cb",
   "metadata": {},
   "source": [
    "## Applying Unitary Exponentiated SQOperators to the FCIComputer"
   ]
  },
  {
   "cell_type": "markdown",
   "id": "f405f446",
   "metadata": {},
   "source": [
    "As discussed in previous tutorials, we of course want the ability to apply unitaries constructed from exponentiated anti-hermitaion second-quantized operators. Lets consider the follwonig sub example that constructs and apples a small second quantuized operator called K.\n",
    "\n",
    "> Instantiate a new `FCIComputer` with two orbitals (corresponding to four qubits), two electonrs, and zero spin. Set the FCIComputer to the Hartree Fock-state. Print the FCIComputer. \n",
    "\n",
    "> Consturct K, a linear combination of a double excitation and a double de-excitaiotn.\n",
    "\n",
    "> Apply $\\hat{U} = e^{K} = e^{0.5 \\hat{a}_2^\\dagger \\hat{a}_3^\\dagger \\hat{a}_1 \\hat{a}_0 - 0.5 \\hat{a}_0^\\dagger \\hat{a}_1^\\dagger \\hat{a}_3 \\hat{a}_2}$ to the FCIComputer.\n",
    "\n",
    "> Print the final state of the FCIComputer."
   ]
  },
  {
   "cell_type": "code",
   "execution_count": 32,
   "id": "6cae306b",
   "metadata": {},
   "outputs": [
    {
     "name": "stdout",
     "output_type": "stream",
     "text": [
      "\u0001\u0007\f\u000b\u0001\u0001\u0001\u0002\u0001\t\u0007\n",
      "\u0001\u0007\f\u000b\u0001\u0001\u0001\u0002\u0001\t\u0007\n",
      "Tensor: FCI Computer\n",
      "  Ndim  = 2\n",
      "  Size  = 4\n",
      "  Shape = (2,2)\n",
      "\n",
      "  Data:\n",
      "\n",
      "                   0            1\n",
      "      0    1.0000000    0.0000000\n",
      "      1    0.0000000    0.0000000\n",
      "Tensor: FCI Computer\n",
      "  Ndim  = 2\n",
      "  Size  = 4\n",
      "  Shape = (2,2)\n",
      "\n",
      "  Data:\n",
      "\n",
      "                   0            1\n",
      "      0    0.8775826    0.0000000\n",
      "      1    0.0000000    0.4794255\n"
     ]
    }
   ],
   "source": [
    "\n",
    "# Define the Computer\n",
    "nel = 2\n",
    "twos = 0\n",
    "norb = 2\n",
    "\n",
    "fci_comp = qf.FCIComputer(\n",
    "    nel=nel, \n",
    "    sz=twos, \n",
    "    norb=norb)\n",
    "\n",
    "fci_comp.hartree_fock()\n",
    "\n",
    "print(fci_comp)\n",
    "\n",
    "# Define K\n",
    "K = qf.SQOperator()\n",
    "K.add_term( 0.5, [2,3], [1,0]) \n",
    "K.add_term(-0.5, [0,1], [3,2])\n",
    "\n",
    "# Note that you can multiply K by a time parameter if you want,\n",
    "# this is helpful for a variety of algorithms, but we can make it 1.0 here.\n",
    "time = 1.0\n",
    "\n",
    "# Apply e^time*K to the FCIComputer\n",
    "fci_comp.apply_sqop_evolution(\n",
    "time, \n",
    "K,\n",
    "antiherm=True)\n",
    "\n",
    "print(fci_comp)\n",
    "\n"
   ]
  },
  {
   "cell_type": "markdown",
   "id": "20244c8d",
   "metadata": {},
   "source": [
    "## Applying Molecular Hamiltonains to the FCIComputer"
   ]
  },
  {
   "cell_type": "markdown",
   "id": "79c32afc",
   "metadata": {},
   "source": [
    "Now lets try to do a speed comparison where we look at applying a molecular Hamiltonian. As mentioned in other tutorials the ability to apply the Hamiltonian to an arbitrary state is an important subroutine for many quantum algorithms.\n",
    "\n",
    "> Create an Berillium Hydride molecue\n",
    "\n",
    "> Instatiate a FOCK and FCI Computer with the appropriate number of qubits\n",
    "\n",
    "> Time how long it takes to apply the hamiltonian to one versus the other\n",
    "\n",
    "> Check how long applicaiton of the Hamiltonian takes using the accelerated `apply_tensor_spat_012bdy()` function which uses the one and two electron integral tensors direction.\n",
    "\n"
   ]
  },
  {
   "cell_type": "code",
   "execution_count": 34,
   "id": "2fec04fc",
   "metadata": {},
   "outputs": [
    {
     "name": "stdout",
     "output_type": "stream",
     "text": [
      " ==> Psi4 geometry <==\n",
      "-------------------------\n",
      "0  1\n",
      "H  0.0  0.0  1.0\n",
      "Be  0.0  0.0  2.0\n",
      "H  0.0  0.0  3.0\n",
      "symmetry c1\n",
      "units angstrom\n",
      "                Process name                    Time (s)                     Percent\n",
      "               =============               =============               =============\n",
      "     Run Psi4 and Initialize                      1.3942                       19.63\n",
      " apply sqop to Fock Computer                      5.6996                       80.23\n",
      "  apply sqop to FCI Computer                      0.0089                        0.13\n",
      "apply tensor to FCI Computer                      0.0010                        0.01\n",
      "\n",
      "                  Total Time                      7.1036                      100.00\n",
      "\n"
     ]
    }
   ],
   "source": [
    "# Define the H8 chain geometry\n",
    "geom = [\n",
    "    ('H',  (0., 0., 1.0)), \n",
    "    ('Be', (0., 0., 2.0)),\n",
    "    ('H',  (0., 0., 3.0)), \n",
    "    ]\n",
    "\n",
    "# Start a qforte timer\n",
    "timer = qf.local_timer()\n",
    "\n",
    "timer.reset()\n",
    "\n",
    "# Get the molecule object that now contains both the fermionic and qubit Hamiltonians.\n",
    "mol = qf.system_factory(\n",
    "    build_type='psi4', \n",
    "    mol_geometry=geom, \n",
    "    basis='sto-3g', \n",
    "    build_qb_ham = False,\n",
    "    run_fci=1)\n",
    "\n",
    "# Record how long psi4 took\n",
    "timer.record('Run Psi4 and Initialize')\n",
    " \n",
    "\n",
    "# Defines the HF state for the Fock Computer\n",
    "ref = mol.hf_reference\n",
    "nqb = len(ref)\n",
    "Uhf = qf.utils.state_prep.build_Uprep(ref, 'occupation_list')\n",
    "\n",
    "\n",
    "# Define FCIComp parameters\n",
    "nel = sum(ref)\n",
    "sz = 0\n",
    "norb = int(len(ref) / 2)\n",
    "\n",
    "# Initialize Fock Computer and set to HF state\n",
    "fock_comp = qf.Computer(nqb)\n",
    "fock_comp.apply_circuit(Uhf)\n",
    " \n",
    "# Initialize FCIComputer and set to HF state\n",
    "fci_comp = qf.FCIComputer(\n",
    "    nel=nel, \n",
    "    sz=sz, \n",
    "    norb=norb)\n",
    "\n",
    "fci_comp.hartree_fock()\n",
    "\n",
    "# Time application of hamiltonian to Fock Computer\n",
    "timer.reset()\n",
    "fock_comp.apply_sq_operator(mol.sq_hamiltonian)\n",
    "timer.record('apply sqop to Fock Computer')\n",
    "\n",
    "# Time application of hamiltonian to FCI Computer\n",
    "timer.reset()\n",
    "fci_comp.apply_sqop(mol.sq_hamiltonian)\n",
    "timer.record('apply sqop to FCI Computer')\n",
    "\n",
    "fci_comp.hartree_fock()\n",
    "\n",
    "# Time application of hamiltonian to FCI Computer\n",
    "# using accelerated algorithm\n",
    "timer.reset()\n",
    "fci_comp.apply_tensor_spat_012bdy(\n",
    "    mol.nuclear_repulsion_energy, \n",
    "    mol.mo_oeis, \n",
    "    mol.mo_teis, \n",
    "    mol.mo_teis_einsum, \n",
    "    norb)\n",
    "\n",
    "timer.record('apply tensor to FCI Computer')\n",
    "\n",
    "print(timer)\n",
    "\n"
   ]
  },
  {
   "cell_type": "markdown",
   "id": "276b94a1",
   "metadata": {},
   "source": [
    "## Applying Pre-Defined SQOperator \"Pools\" to a state"
   ]
  },
  {
   "cell_type": "markdown",
   "id": "9cc57348",
   "metadata": {},
   "source": [
    "It is also helpful to evelove an entire 'pool' of K-typle anti hermitian operatirs, representing a product of unitaries. This is the basic circuit structure for and dUCC type algorithm. An example of how to construct (and evolve a state by) a pool of all particle-hole singles and doubles is shown below. We will contine with some of the the things we defined above.\n",
    "\n",
    "> Find the energy expectation value of BeH2 for the HF state using the FCIComputer\n",
    "\n",
    "> Construct a pool of all SD excitations/de-excitations for BeH2 using a pre-defined funciton.\n",
    "\n",
    "> Apply that pool to the hartree fock sate and find the new energy expecation value"
   ]
  },
  {
   "cell_type": "code",
   "execution_count": 43,
   "id": "b9ff1fbf",
   "metadata": {},
   "outputs": [
    {
     "name": "stdout",
     "output_type": "stream",
     "text": [
      "Ehf from Psi4:    -15.45566777\n",
      "Ehf from Qforte:  -15.45566777+0.00000000j\n",
      "Enew from Qforte: -7.28864032+0.00000000j\n"
     ]
    }
   ],
   "source": [
    "# We want to re-set the state as the HF state first\n",
    "fci_comp.hartree_fock()\n",
    "\n",
    "# Get the HF expectaion value for energy\n",
    "Ehf = fci_comp.get_exp_val(mol.sq_hamiltonian)\n",
    "\n",
    "# Check that this matches Psi4 (always a good idea)\n",
    "print(f\"Ehf from Psi4:    {mol.hf_energy:8.8f}\")\n",
    "print(f\"Ehf from Qforte:  {Ehf:8.8f}\")\n",
    "\n",
    "# Build and fill the pool with particle-hole singles and doubles\n",
    "pool = qf.SQOpPool()\n",
    "pool.set_orb_spaces(ref)\n",
    "pool.fill_pool(\"SD\")\n",
    "\n",
    "# Apply the pool\n",
    "fci_comp.evolve_pool_trotter_basic(\n",
    "            pool,\n",
    "            antiherm=True,\n",
    "            adjoint=False)\n",
    "\n",
    "Enew = fci_comp.get_exp_val(mol.sq_hamiltonian)\n",
    "print(f\"Enew from Qforte: {Enew:8.8f}\")\n"
   ]
  },
  {
   "cell_type": "markdown",
   "id": "5af08e38",
   "metadata": {},
   "source": [
    "## Apply what you've learned"
   ]
  },
  {
   "cell_type": "markdown",
   "id": "1855d152",
   "metadata": {},
   "source": [
    "Now we want to implement dUCCSD-PQE for H2 just like we did at the end of Tutorial 4. But this time use the FCI computer instead of the regular Computer. Template code is provided below, and you should be able to exactly match the numbers from Tutrial 4. "
   ]
  },
  {
   "cell_type": "code",
   "execution_count": 53,
   "id": "66b44de8",
   "metadata": {},
   "outputs": [
    {
     "name": "stdout",
     "output_type": "stream",
     "text": [
      " ==> Psi4 geometry <==\n",
      "-------------------------\n",
      "0  1\n",
      "H  0.0  0.0  0.0\n",
      "H  0.0  0.0  0.75\n",
      "symmetry c1\n",
      "units angstrom\n",
      " +1.000000 ( 2^ 3^ 1 0 )\n",
      " -1.000000 ( 0^ 1^ 3 2 )\n",
      "\n",
      "\n",
      "Delta_mu:    -2.4706932181\n"
     ]
    }
   ],
   "source": [
    "# Define the reference and geometry lists.\n",
    "geom = [('H', (0., 0., 0.0)), ('H', (0., 0., 0.75))]\n",
    "\n",
    "# Get the molecule object that now contains both the fermionic and qubit Hamiltonians.\n",
    "H2mol = qf.system_factory(\n",
    "    build_type='psi4', \n",
    "    mol_geometry=geom, \n",
    "    basis='sto-3g',\n",
    "    run_fci=1)\n",
    "\n",
    "# Build the K operator that will perfrom the only viable double excitation/de-excitaiotn for H2\n",
    "\n",
    "# Define the list for the HF orbital energies.\n",
    "# Note this is done manually in Tutrial 4, but we can ust grab \n",
    "# the pre-computed values from Psi4.\n",
    "orb_e = []\n",
    "for i, ei in enumerate(H2mol.hf_orbital_energies):\n",
    "    orb_e += [ei]*2\n",
    "\n",
    "# Define the Moller-Plesset denominator ∆_mu.   \n",
    "\n",
    "print(f\"\\nDelta_mu:    {delta_mu:+12.10f}\")"
   ]
  },
  {
   "cell_type": "code",
   "execution_count": 60,
   "id": "831f2b7e",
   "metadata": {},
   "outputs": [],
   "source": [
    "def get_energies(t_mu, K_mu, nel, sz, norb):\n",
    "\n",
    "    # Initialize a FCIComputer and set it to the current state\n",
    "    # defined by t_mu and K_mu\n",
    "\n",
    "    # Get the PQE energy of the current state.\n",
    "\n",
    "    # Get the excited determinannt energy by applying K to the HF state and then applying e^K.\n",
    "    \n",
    "    # Reset a FCIComputer to HF State\n",
    "    \n",
    "    # Apply the Unitary e^{ (pi/4) Kmu }\n",
    "    \n",
    "    # Apply e^K.\n",
    "    \n",
    "    \n",
    "    # Get the mixed state energy\n",
    "    \n",
    "\n",
    "    return Eomega, Emu, E0"
   ]
  },
  {
   "cell_type": "code",
   "execution_count": 61,
   "id": "ebab4ed9",
   "metadata": {},
   "outputs": [
    {
     "name": "stdout",
     "output_type": "stream",
     "text": [
      "   Iteration       Epqe                  Emu            E_omega_mu            r_mu\n",
      "--------------------------------------------------------------------------------------------\n",
      "        0       -1.1161514489       +0.4388389026     -0.1568847366       +0.1817715366\n",
      "        1       -1.1343997677       +0.4570872214     -0.2728388683       +0.0658174049\n",
      "        2       -1.1367756303       +0.4594630840     -0.3153082198       +0.0233480534\n",
      "        3       -1.1370743384       +0.4597617921     -0.3303959491       +0.0082603240\n",
      "        4       -1.1371117228       +0.4597991765     -0.3357348320       +0.0029214411\n",
      "        5       -1.1371163989       +0.4598038526     -0.3376230863       +0.0010331869\n",
      "        6       -1.1371169837       +0.4598044374     -0.3382908818       +0.0003653914\n",
      "        7       -1.1371170569       +0.4598045106     -0.3385270509       +0.0001292223\n",
      "        8       -1.1371170660       +0.4598045197     -0.3386105731       +0.0000457000\n",
      "        9       -1.1371170672       +0.4598045209     -0.3386401111       +0.0000161620\n",
      "       10       -1.1371170673       +0.4598045210     -0.3386505574       +0.0000057158\n",
      "\n",
      "\n",
      " Efci:   -1.1371170673\n"
     ]
    }
   ],
   "source": [
    "# Defie the number of PQE iterations and the intial t_mu = 0.0\n",
    "pqe_iter = 11\n",
    "t_mu = 0.0\n",
    "\n",
    "print(f\"   Iteration       Epqe                  Emu            E_omega_mu            r_mu\")\n",
    "print(f\"--------------------------------------------------------------------------------------------\")\n",
    "\n",
    "# for loop that will print energies at every iteration.\n",
    "for n in range(pqe_iter):\n",
    "    \n",
    "    # return Eomega_mu, Emu, Eo from the funciton you wrote\n",
    "    \n",
    "    # define r_mu\n",
    "    \n",
    "    # print everyting\n",
    "    print(f\"       {n:2}       {E0:+12.10f}       {Emu:+12.10f}     {Eomega_mu:+12.10f}       {r_mu:+12.10f}\")\n",
    "    \n",
    "    # Update the amplitude.\n",
    "    \n",
    "    \n",
    "    \n",
    "print(f'\\n\\n Efci:   {H2mol.fci_energy:+12.10f}')"
   ]
  },
  {
   "cell_type": "code",
   "execution_count": null,
   "id": "1be08f5b",
   "metadata": {},
   "outputs": [],
   "source": []
  }
 ],
 "metadata": {
  "kernelspec": {
   "display_name": "qforte_env_v1",
   "language": "python",
   "name": "python3"
  },
  "language_info": {
   "codemirror_mode": {
    "name": "ipython",
    "version": 3
   },
   "file_extension": ".py",
   "mimetype": "text/x-python",
   "name": "python",
   "nbconvert_exporter": "python",
   "pygments_lexer": "ipython3",
   "version": "3.8.16"
  }
 },
 "nbformat": 4,
 "nbformat_minor": 5
}
