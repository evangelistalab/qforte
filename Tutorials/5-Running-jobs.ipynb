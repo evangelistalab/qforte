{
 "cells": [
  {
   "cell_type": "code",
   "execution_count": 1,
   "id": "spectacular-sphere",
   "metadata": {},
   "outputs": [],
   "source": [
    "import qforte as qf\n",
    "from qforte import *\n",
    "import numpy as np"
   ]
  },
  {
   "cell_type": "markdown",
   "id": "written-cambodia",
   "metadata": {},
   "source": [
    "$$\n",
    "\\newcommand{\\ket}[1]{\\left|{#1}\\right\\rangle}\n",
    "\\newcommand{\\bra}[1]{\\left\\langle{#1}\\right|}\n",
    "\\newcommand{\\cre}[1]{\\hat{a}^{\\dagger}_{#1}}\n",
    "\\newcommand{\\ann}[1]{\\hat{a}_{#1}}\n",
    "$$"
   ]
  },
  {
   "cell_type": "markdown",
   "id": "greenhouse-discharge",
   "metadata": {},
   "source": [
    "# Running jobs with QForte"
   ]
  },
  {
   "cell_type": "markdown",
   "id": "approximate-separate",
   "metadata": {},
   "source": [
    "In this tutorial we are interested in utilizing QForte as a tool to run black-box calculations. We will provide a theoretical overview and example code for how to run multiple quantum algorithms."
   ]
  },
  {
   "cell_type": "markdown",
   "id": "charitable-compensation",
   "metadata": {},
   "source": [
    "## Get molecular Hamiltonain"
   ]
  },
  {
   "cell_type": "markdown",
   "id": "organized-journalist",
   "metadata": {},
   "source": [
    "As we have done before in previous tutorials, we will need to first obtain the QForte `molecule` object for the system of interest. In this tutorial we will consider LiH.  "
   ]
  },
  {
   "cell_type": "code",
   "execution_count": 2,
   "id": "automatic-russell",
   "metadata": {},
   "outputs": [
    {
     "name": "stdout",
     "output_type": "stream",
     "text": [
      " ==> Psi4 geometry <==\n",
      "-------------------------\n",
      "0  1\n",
      "Li  0.0  0.0  0.0\n",
      "H  0.0  0.0  1.5\n",
      "symmetry c1\n",
      "units angstrom\n"
     ]
    }
   ],
   "source": [
    "# Define the reference and geometry lists.\n",
    "ref = [1,1,1,1,0,0,0,0,0,0,0,0]\n",
    "geom = [('Li', (0., 0., 0.0)), ('H', (0., 0., 1.50))]\n",
    "\n",
    "# Get the molecule object that now contains both the fermionic and qubit Hamiltonians.\n",
    "LiHmol = system_factory(build_type='psi4', mol_geometry=geom, basis='sto-3g')"
   ]
  },
  {
   "cell_type": "markdown",
   "id": "universal-palestinian",
   "metadata": {},
   "source": [
    "## QForte algorithms"
   ]
  },
  {
   "cell_type": "markdown",
   "id": "honest-comparison",
   "metadata": {},
   "source": [
    "QForte contains black-box implementations of the following algorithms:\n",
    "\n",
    "- Disentangled (Trotterized) unitary coupled cluster variational quantum eigensolver (dUCCVQE)\n",
    "  - QForte will treat up to hex-tuple particle-hole excitations (SDTQPH) or generalized singled and doubles (GSD).\n",
    "\n",
    "\n",
    "- Adaptive derivative-assembled pseudo Trotterized VQE (ADAPT-VQE).\n",
    "  \n",
    "  \n",
    "- Disentangled (Trotterized) unitary coupled cluster projective quantum eigensolver (dUCCPQE)\n",
    "  - QForte will treat up to hex-tuple particle-hole excitations (SDTQPH).\n",
    "  \n",
    "  \n",
    "- Selected projective quantum eigensolver (SPQE)\n",
    "\n",
    "\n",
    "- Single reference Quantum Krylov (SRQK)\n",
    "\n",
    "\n",
    "- Multireference selected quantum Krylov diagonalization (MRSQK)\n",
    "\n",
    "\n",
    "- Quantum imaginary time evolution (QITE)\n",
    "\n",
    "\n",
    "- Quantum Lanczos (QL)\n",
    "\n",
    "\n",
    "- Quantum phase estimation (QPE)"
   ]
  },
  {
   "cell_type": "markdown",
   "id": "another-directory",
   "metadata": {},
   "source": [
    "### Example 1:  dUCC-VQE"
   ]
  },
  {
   "cell_type": "markdown",
   "id": "seeing-clark",
   "metadata": {},
   "source": [
    "Similarly to the dUCC-PQE example in tutorial 5, dUCC-VQE likewise considers a factorized (disentangled) form of the UCC ansatz\n",
    "\\begin{equation}\n",
    "\\hat{U}(\\mathbf{t})=\n",
    " \\prod_\\mu e^{ t_\\mu \\hat{\\kappa}_\\mu}.\n",
    "\\end{equation}\n",
    "\n",
    "The VQE energy expectation value is then given as\n",
    "\\begin{equation}\n",
    "E_\\text{VQE}(\\mathbf{t}) = \\bra{\\Phi_0} \\hat{U}^\\dagger(\\mathbf{t}) \\hat{\\mathcal{H}} \\hat{U}(\\mathbf{t}) \\ket{\\Phi_0}.\n",
    "\\end{equation}\n",
    "\n",
    "It is of course possible to perform the optimization using gradient free optimizers (such as Nelder-Mead) or using finite difference, but it is usually preferable to evaluate the gradients $g_\\mu$ of the energy as well.\n",
    "Assuming a that $\\hat{U}(\\mathbf{t})$ generates only a real wave function, the gradients are given by\n",
    "\n",
    "\\begin{equation}\n",
    "\\begin{split}\n",
    "g_\\mu = \\frac{\\partial E_\\mathrm{VQE}(\\mathbf{t})}{\\partial t_\\mu} = &\n",
    "2 \\, \\mathrm{Re} \\bra{\\Phi_0}  \\hat{U}^\\dagger(\\mathbf{t}) \\hat{H} \\frac{\\partial \\hat{U}(\\mathbf{t})}{\\partial t_\\mu}  \\ket{\\Phi_0}\n",
    "\\end{split}\n",
    "\\end{equation}\n",
    "\n",
    "In QForte, running an algorithm is simple and can be done with just a few lines. First one instantiates an `algorithm` object by passing the molecule and reference lst. Then one calls `algorithm.run()` passing arguments that specify the run parameters.\n",
    "\n",
    "> Run a dUCCSD-VQE calculation."
   ]
  },
  {
   "cell_type": "code",
   "execution_count": 3,
   "id": "behind-checkout",
   "metadata": {},
   "outputs": [
    {
     "name": "stdout",
     "output_type": "stream",
     "text": [
      "\n",
      "-----------------------------------------------------\n",
      "          Unitary Coupled Cluster VQE   \n",
      "-----------------------------------------------------\n",
      "\n",
      "\n",
      "               ==> UCCN-VQE options <==\n",
      "---------------------------------------------------------\n",
      "Trial reference state:                    |111100000000>\n",
      "Number of Hamiltonian Pauli terms:        643\n",
      "Trial state preparation method:           reference\n",
      "Trotter order (rho):                      1\n",
      "Trotter number (m):                       1\n",
      "Use fast version of algorithm:            True\n",
      "Measurement variance thresh:              NA\n",
      "Optimization algorithm:                   BFGS\n",
      "Optimization maxiter:                     200\n",
      "Optimizer grad-norm threshold (theta):    1.00e-03\n",
      "Use analytic gradient:                    True\n",
      "Operator pool type:                       SD\n",
      "  \n",
      "--> Begin opt with analytic gradient:\n",
      " Initial guess energy:              -7.8633576215\n"
     ]
    },
    {
     "name": "stderr",
     "output_type": "stream",
     "text": [
      "/Users/nstair/Src/Qforte/qforte/src/qforte/ucc/uccnvqe.py:342: OptimizeWarning: Unknown solver options: fatol, ftol, tol, maxfun\n",
      "  callback=self.report_iteration)\n"
     ]
    },
    {
     "name": "stdout",
     "output_type": "stream",
     "text": [
      "\n",
      "    k iteration         Energy               dE           Ngvec ev      Ngm ev*         ||g||\n",
      "--------------------------------------------------------------------------------------------------\n",
      "           1        -7.8793913721      -0.0160337505         3           276       +0.1956402368\n",
      "           2        -7.8815012384      -0.0021098664         5           460       +0.0471578997\n",
      "           3        -7.8817866028      -0.0002853644         7           644       +0.0449685662\n",
      "           4        -7.8819018183      -0.0001152155         8           736       +0.0520353645\n",
      "           5        -7.8820582727      -0.0001564544         9           828       +0.0308979415\n",
      "           6        -7.8821590765      -0.0001008038        10           920       +0.0452785932\n",
      "           7        -7.8822754014      -0.0001163249        11          1012       +0.0250004182\n",
      "           8        -7.8823097188      -0.0000343174        13          1196       +0.0213994034\n",
      "           9        -7.8823279285      -0.0000182098        14          1288       +0.0208412537\n",
      "          10        -7.8823444956      -0.0000165671        15          1380       +0.0099284367\n",
      "          11        -7.8823493929      -0.0000048973        17          1564       +0.0068154260\n",
      "          12        -7.8823514776      -0.0000020847        18          1656       +0.0032945898\n",
      "          13        -7.8823523514      -0.0000008738        20          1840       +0.0020076063\n",
      "Optimization terminated successfully.\n",
      "         Current function value: -7.882352\n",
      "         Iterations: 13\n",
      "         Function evaluations: 20\n",
      "         Gradient evaluations: 20\n",
      "  => Minimization successful!\n",
      "  => Minimum Energy: -7.8823523514\n",
      "\n",
      "\n",
      "                ==> UCCN-VQE summary <==\n",
      "-----------------------------------------------------------\n",
      "Final UCCN-VQE Energy:                       -7.8823523514\n",
      "Number of operators in pool:                  92\n",
      "Final number of amplitudes in ansatz:         92\n",
      "Total number of Hamiltonian measurements:     20\n",
      "Total number of commutator measurements:      0\n",
      "Number of classical parameters used:          92\n",
      "Number of non-zero parameters used:           34\n",
      "Number of CNOT gates in deepest circuit:      2464\n",
      "Number of Pauli term measurements:            8243260\n",
      "Number of grad vector evaluations:            20\n",
      "Number of individual grad evaluations:        1840\n"
     ]
    }
   ],
   "source": [
    "# Run the algorithm.\n",
    "alg = UCCNVQE(LiHmol, ref)\n",
    "alg.run(opt_thresh=1.0e-3,\n",
    "        pool_type='SD')"
   ]
  },
  {
   "cell_type": "markdown",
   "id": "previous-variety",
   "metadata": {},
   "source": [
    "### Example 2: SRQK"
   ]
  },
  {
   "cell_type": "markdown",
   "id": "distinguished-savings",
   "metadata": {},
   "source": [
    "In a single reference quantum Krylov algorithm, a general state is written as a linear combination of the basis $\\{ \\psi_\\alpha \\}$ generated from the action of the (real) time evolution operator $e^{-i n \\Delta t \\hat{\\mathcal{H}}}$ on a reference state $\\ket{\\Phi_0}$ as\n",
    "\\begin{equation}\n",
    "\\ket{\\Psi} = \\sum_n  c_n \\ket{\\psi_n} = \\sum_{n=0}^{s} c_n e^{-i n \\Delta t \\hat{\\mathcal{H}}} \\ket{\\Phi_0}. \n",
    "\\end{equation}\n",
    "\n",
    "Variational minimization of the energy of the state $\\Psi$ leads to the following generalized eigenvalue problem\n",
    "\\begin{equation}\n",
    "\\label{eq:gep}\n",
    "\\mathbf{Hc} = \\mathbf{Sc} E,\n",
    "\\end{equation}\n",
    "\n",
    "where the elements of the overlap matrix ($\\mathbf{S}$) and Hamiltonian ($\\mathbf{H}$) are given by\n",
    "\\begin{align}\n",
    "\\label{eq:overlap}\n",
    "S_{\\alpha\\beta} &= \\langle \\psi_\\alpha | \\psi_\\beta \\rangle\n",
    "= \\langle \\Phi_{I} | \\hat{U}^\\dagger_m \\hat{U}_n |\\Phi_J \\rangle,\\\\\n",
    "\\label{eq:hamiltonian}\n",
    "H_{\\alpha\\beta} &= \\langle \\psi_\\alpha | \\hat{H} | \\psi_\\beta \\rangle\n",
    "= \\langle \\Phi_{I} | \\hat{U}^\\dagger_m \\hat{H} \\hat{U}_n |\\Phi_{J} \\rangle.\n",
    "\\end{align} \n",
    "\n",
    "This approach forms a basis which is very similar to a classical Krylov basis in the small time-step regime, and may also be thought of as a quantum version of classical filter diagonalization.\n",
    "\n",
    "> Run a SRQK calculation."
   ]
  },
  {
   "cell_type": "code",
   "execution_count": 4,
   "id": "dynamic-crazy",
   "metadata": {},
   "outputs": [
    {
     "name": "stdout",
     "output_type": "stream",
     "text": [
      "\n",
      "-----------------------------------------------------\n",
      "           Single Reference Quantum Krylov   \n",
      "-----------------------------------------------------\n",
      "\n",
      "\n",
      "                     ==> QK options <==\n",
      "-----------------------------------------------------------\n",
      "Trial reference state:                    |111100000000>\n",
      "Number of Hamiltonian Pauli terms:        643\n",
      "Trial state preparation method:           reference\n",
      "Trotter order (rho):                      1\n",
      "Trotter number (m):                       1\n",
      "Use fast version of algorithm:            True\n",
      "Measurement varience thresh:              NA\n",
      "Dimension of Krylov space (N):            4\n",
      "Delta t (in a.u.):                        0.5\n",
      "Target root:                              0\n",
      "\n",
      "\n",
      "\n",
      "   k(S)            E(Npar)     N(params)           N(CNOT)          N(measure)\n",
      "-------------------------------------------------------------------------------\n",
      " 1.00e+00       -7.863357622           1                 0                 643\n",
      " 7.32e+02       -7.876713602           2             13160                2574\n",
      " 6.22e+03       -7.878733396           3             13160                5793\n",
      " 2.11e+04       -7.878779177           4             13160               10300\n",
      "\n",
      "       ==> QK eigenvalues <==\n",
      "----------------------------------------\n",
      "  root  0  -7.87877918    -0.00000000j\n",
      "  root  1  -6.94213494    -0.00000000j\n",
      "  root  2  -6.29229574    -0.00000000j\n",
      "  root  3  -4.22151266    -0.00000000j\n",
      "\n",
      "\n",
      "                     ==> QK summary <==\n",
      "-----------------------------------------------------------\n",
      "Condition number of overlap mat k(S):       2.11e+04\n",
      "Final SRQK ground state Energy:            -7.8787791768\n",
      "Final SRQK target state Energy:            -7.8787791768\n",
      "Number of classical parameters used:        4\n",
      "Number of CNOT gates in deepest circuit:    13160\n",
      "Number of Pauli term measurements:          10300\n"
     ]
    }
   ],
   "source": [
    "alg = SRQK(LiHmol, ref)\n",
    "alg.run()"
   ]
  }
 ],
 "metadata": {
  "kernelspec": {
   "display_name": "Python [conda env:opferm2] *",
   "language": "python",
   "name": "conda-env-opferm2-py"
  },
  "language_info": {
   "codemirror_mode": {
    "name": "ipython",
    "version": 3
   },
   "file_extension": ".py",
   "mimetype": "text/x-python",
   "name": "python",
   "nbconvert_exporter": "python",
   "pygments_lexer": "ipython3",
   "version": "3.7.6"
  }
 },
 "nbformat": 4,
 "nbformat_minor": 5
}
