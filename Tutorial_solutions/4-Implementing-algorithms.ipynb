{
 "cells": [
  {
   "cell_type": "code",
   "execution_count": 1,
   "id": "spectacular-sphere",
   "metadata": {},
   "outputs": [],
   "source": [
    "import qforte as qf\n",
    "from qforte import *\n",
    "import numpy as np"
   ]
  },
  {
   "cell_type": "markdown",
   "id": "written-cambodia",
   "metadata": {},
   "source": [
    "$$\n",
    "\\newcommand{\\ket}[1]{\\left|{#1}\\right\\rangle}\n",
    "\\newcommand{\\bra}[1]{\\left\\langle{#1}\\right|}\n",
    "\\newcommand{\\cre}[1]{\\hat{a}^{\\dagger}_{#1}}\n",
    "\\newcommand{\\ann}[1]{\\hat{a}_{#1}}\n",
    "$$"
   ]
  },
  {
   "cell_type": "markdown",
   "id": "greenhouse-discharge",
   "metadata": {},
   "source": [
    "# Implementing a Projective Quantum Eigensolver (PQE) with QForte"
   ]
  },
  {
   "cell_type": "markdown",
   "id": "structured-account",
   "metadata": {},
   "source": [
    "In this tutorial we will show how QForte can be used to implement quantum algorithms for electronic structure problems. We will use the H2 model system as an example, and will show how to implement the projective quantum eigensolver (PQE) to determine the FCI energy."
   ]
  },
  {
   "cell_type": "markdown",
   "id": "forward-energy",
   "metadata": {},
   "source": [
    "## PQE Theory"
   ]
  },
  {
   "cell_type": "markdown",
   "id": "experimental-export",
   "metadata": {},
   "source": [
    "The projective quantum eigensolver is an alternative to the widely used variational quantum eigensolver (VQE).\n",
    "Like in VQE, we approximate the ground state using a trial state $\\ket{\\tilde{\\Psi}(\\mathbf{t})}= \\hat{U}(\\mathbf{t}) \\ket{\\Phi_0}$.\n",
    "After inserting the definition of the trial state in the Schr\\\"{o}dinger equation and left-multiplying by $\\hat{U}^\\dagger(\\mathbf{t})$, we obtain the condition\n",
    "\\begin{equation}\n",
    "\\hat{U}^\\dagger(\\mathbf{t}) \\hat{\\mathcal{H}} \\hat{U}(\\mathbf{t}) \\ket{\\Phi_0} = E \\ket{\\Phi_0}.\n",
    "\\end{equation}\n",
    "Projection onto the reference state $\\Phi_0$ yields the PQE energy ($E_\\text{PQE}$)\n",
    "\\begin{equation}\n",
    "E_\\text{PQE}(\\mathbf{t}) = \\bra{\\Phi_0} \\hat{U}^\\dagger(\\mathbf{t}) \\hat{\\mathcal{H}} \\hat{U}(\\mathbf{t}) \\ket{\\Phi_0},\n",
    "\\end{equation}\n",
    "a quantity that is still an upper bound to the exact ground state energy.\n",
    "Projections onto the complete set of orthonormal many-body basis functions complementary to $\\Phi_0$, here denoted as $Q = \\{\\Phi_\\mu \\}$, yields a set of residual conditions\n",
    "\\begin{equation}\n",
    "r_\\mu(\\mathbf{t}) \\equiv \\bra{\\Phi_\\mu} \\hat{U}^\\dagger(\\mathbf{t}) \\hat{\\mathcal{H}} \\hat{U}(\\mathbf{t}) \\ket{\\Phi_0} = 0 \\quad \\forall \\Phi_\\mu \\in Q,\n",
    "\\end{equation}\n",
    "where $r_\\mu$ is an element of the residual vector and $\\mu$ runs over all elements of the many-body basis.\n",
    "The above equations form a system of nonlinear equations in the parameter vector $\\mathbf{t}$, that may be solved via a classical iterative solver."
   ]
  },
  {
   "cell_type": "markdown",
   "id": "hydraulic-clearing",
   "metadata": {},
   "source": [
    "### The disentangeld unitary coupled cluster ansatz"
   ]
  },
  {
   "cell_type": "markdown",
   "id": "compatible-metro",
   "metadata": {},
   "source": [
    "One of the most common state-preparation unitary circuits [$\\hat{U}(\\mathbf{t})$] in both VQE and PQE is the disentangled (or factorized) unitary coupled cluster (dUCC) ansatz.\n",
    "In UCC, the reference state is an easily-prepared single determinant $\\ket{\\Phi_0} = \\ket{\\psi_1 \\psi_2 \\cdots}$ specified by the occupied spin orbitals $\\{ \\psi_i \\}$.\n",
    " A UCC unitary is parameterized using a pool\n",
    "of anti-Hermitian operators $\\mathcal{P} = \\{  \\hat{\\kappa}_\\mu : \\mu =1 ,\\ldots, N_\\mathrm{op}^\\mathrm{pool} \\}$.\n",
    "A generic anti-Hermitian operator $\\hat{\\kappa}_\\mu = \\hat{\\tau}_\\mu - \\hat{\\tau}_\\mu^\\dagger$ is defined in terms of the particle-hole excitation operators\n",
    "$ \\hat{\\tau}_\\mu \\equiv  \\hat{\\tau}_{ij\\cdots}^{ab\\cdots} = \\cre{a} \\cre{b} \\cdots \\ann{j} \\ann{i}$.\n",
    "Note that we have re-interpreted $\\mu$ as the multi-index $\\mu \\equiv ((i,j,..),(a,b,..))$ of unique excitations from hole/occupied ($\\psi_i \\psi_j \\cdots$) to particle/unoccupied ($\\psi_a \\psi_b \\cdots$) spin orbitals.\n",
    "Using this parameterization, when a cluster operator $ \\hat{\\kappa}_\\mu$ acts on the reference, it generates elements of the many-body basis (excited determinants) of the form\n",
    "\\begin{equation}\n",
    "\\ket{\\Phi_\\mu} = \\hat{\\kappa}_\\mu \\ket{\\Phi_0} = \\ket{\\Phi_{ij\\cdots}^{ab\\cdots}},\n",
    "\\end{equation}\n",
    "and since in the case of a UCC (or dUCC) ansatz there is a 1-to-1 correspondence between operators and determinants, we may label them with the same index.\n",
    "Note that this operator basis satisfies the orthonormality condition \n",
    "\\begin{equation}\n",
    "\\bra{\\Phi_0} \\hat{\\kappa}^\\dagger_\\mu \\hat{\\kappa}_\\nu \\ket{\\Phi_0} = \\langle \\Phi_\\mu \\ket{\\Phi_\\nu} = \\delta_{\\mu\\nu}.\n",
    "\\end{equation}"
   ]
  },
  {
   "cell_type": "markdown",
   "id": "hollywood-cycling",
   "metadata": {},
   "source": [
    "In traditional UCC, the wave function is generated by an exponential operator\n",
    "\\begin{equation}\n",
    "\\hat{U}(\\mathbf{t}) = e^{\\hat{\\sigma}} = e^{\\sum_\\mu t_\\mu \\hat{\\kappa}_\\mu},\n",
    "\\end{equation}\n",
    "assuming the cluster amplitudes $t_\\mu$ are real.\n",
    "\n",
    "In principle it is possible to construct a circuit that exactly implements the action of the UCC operator defined in, but in practice it is common to use a unitary with a simpler, and shallower, circuit.\n",
    "This is frequently accomplished using a factorized (disentangled) form of the UCC ansatz\n",
    "\\begin{equation}\n",
    "\\hat{U}(\\mathbf{t})=\n",
    " \\prod_\\mu e^{ t_\\mu \\hat{\\kappa}_\\mu}.\n",
    "\\end{equation}\n",
    "\n",
    "Because the operators $\\hat{\\kappa}_\\mu$ do not commute, an ansatz of the disentangled form is uniquely defined by an \\textit{ordered} set (or subset) of operators $\\mathcal{A} = ( \\hat{\\kappa}_{\\mu_i}: i = 1, \\ldots, N_\\mathrm{op} )$ built from the operator pool $\\mathcal{P}$.\n",
    "The operators in $\\mathcal{A}$ are then used form an ordered product of exponential unitaries\n",
    "\\begin{equation}\n",
    "\\label{eq:qucc}\n",
    "\\hat{U}(\\mathbf{t})\n",
    "= e^{t_{\\mu_1} \\hat{\\kappa}_{\\mu_1}}  e^{t_{\\mu_2} \\hat{\\kappa}_{\\mu_2}} \\cdots e^{t_{\\mu_{N_\\mathrm{op}}} \\hat{\\kappa}_{\\mu_{N_\\mathrm{op}}}},\n",
    "\\end{equation}\n",
    "where $t_{\\mu_i}$ is the amplitude corresponding to the operator $\\hat{\\kappa}_{\\mu_i}$."
   ]
  },
  {
   "cell_type": "markdown",
   "id": "signed-cream",
   "metadata": {},
   "source": [
    "### The dUCC-PQE update equation"
   ]
  },
  {
   "cell_type": "markdown",
   "id": "constant-parking",
   "metadata": {},
   "source": [
    "To solve the PQE equations we measure the residuals corresponding to the operators contained in $\\mathcal{A}$ on a quantum computer and update the parameter vector using a simple quasi-Newton iteration approach\n",
    "\\begin{equation}\n",
    "\\label{eq:fixed_point}\n",
    "t_\\mu^{(n +1)} = t_\\mu^{(n)} + \\frac{r^{(n)}_\\mu}{\\Delta_\\mu},\n",
    "\\end{equation}\n",
    "where the superscript \"$(n)$\" indicates the amplitude at iteration $n$.\n",
    "The quantities $\\Delta_\\mu$ are standard Moller-Plesset denominators $\\Delta_\\mu \\equiv \\Delta_{ij\\cdots}^{ab\\cdots} = \\epsilon_i + \\epsilon_j + \\ldots -\\epsilon_a -\\epsilon_b \\ldots$ where $\\epsilon_i$ are Hartree-Fock orbital energies.\n",
    "This update equation is derived in using Newton's method and taking the leading contributions to the Jacobin to be the diagonal elements of the Fock operator.\n"
   ]
  },
  {
   "cell_type": "markdown",
   "id": "isolated-sandwich",
   "metadata": {},
   "source": [
    "## Implementation with QForte"
   ]
  },
  {
   "cell_type": "markdown",
   "id": "together-platform",
   "metadata": {},
   "source": [
    "To begin we will need to obtain the QForte molecule object. We will use the same simple hydrogen example from the previous totuorial.\n",
    "\n",
    "> Get molecular Hamiltonian for H2."
   ]
  },
  {
   "cell_type": "code",
   "execution_count": 2,
   "id": "manufactured-trade",
   "metadata": {},
   "outputs": [
    {
     "name": "stdout",
     "output_type": "stream",
     "text": [
      " ==> Psi4 geometry <==\n",
      "-------------------------\n",
      "0  1\n",
      "H  0.0  0.0  0.0\n",
      "H  0.0  0.0  0.75\n",
      "symmetry c1\n",
      "units angstrom\n"
     ]
    }
   ],
   "source": [
    "# Define the reference and geometry lists.\n",
    "ref = [1,1,0,0]\n",
    "geom = [('H', (0., 0., 0.0)), ('H', (0., 0., 0.75))]\n",
    "\n",
    "# Get the molecule object that now contains both the fermionic and qubit Hamiltonians.\n",
    "H2mol = system_factory(build_type='psi4', mol_geometry=geom, basis='sto-3g')"
   ]
  },
  {
   "cell_type": "markdown",
   "id": "sealed-danish",
   "metadata": {},
   "source": [
    "We will also need to construct a unitary circuit that sets the vacuum to the Hartree-Fock state for the H2 molecule.\n",
    "\n",
    "> Build a HF state circuit ($\\hat{U}_\\mathrm{HF}$) for H2 and show that it constructs the correct state. "
   ]
  },
  {
   "cell_type": "code",
   "execution_count": 3,
   "id": "spread-billy",
   "metadata": {},
   "outputs": [
    {
     "name": "stdout",
     "output_type": "stream",
     "text": [
      "\n",
      "The vaccume state.\n",
      "\n",
      " Quantum Computer:\n",
      "(1.000000 +0.000000 i) |0000>\n",
      "(0.000000 +0.000000 i) |1000>\n",
      "(0.000000 +0.000000 i) |0100>\n",
      "(0.000000 +0.000000 i) |1100>\n",
      "(0.000000 +0.000000 i) |0010>\n",
      "(0.000000 +0.000000 i) |1010>\n",
      "(0.000000 +0.000000 i) |0110>\n",
      "(0.000000 +0.000000 i) |1110>\n",
      "(0.000000 +0.000000 i) |0001>\n",
      "(0.000000 +0.000000 i) |1001>\n",
      "(0.000000 +0.000000 i) |0101>\n",
      "(0.000000 +0.000000 i) |1101>\n",
      "(0.000000 +0.000000 i) |0011>\n",
      "(0.000000 +0.000000 i) |1011>\n",
      "(0.000000 +0.000000 i) |0111>\n",
      "(0.000000 +0.000000 i) |1111>\n",
      "\n",
      "The Hartree-Fock state.\n",
      "\n",
      " Quantum Computer:\n",
      "(0.000000 +0.000000 i) |0000>\n",
      "(0.000000 +0.000000 i) |1000>\n",
      "(0.000000 +0.000000 i) |0100>\n",
      "(1.000000 +0.000000 i) |1100>\n",
      "(0.000000 +0.000000 i) |0010>\n",
      "(0.000000 +0.000000 i) |1010>\n",
      "(0.000000 +0.000000 i) |0110>\n",
      "(0.000000 +0.000000 i) |1110>\n",
      "(0.000000 +0.000000 i) |0001>\n",
      "(0.000000 +0.000000 i) |1001>\n",
      "(0.000000 +0.000000 i) |0101>\n",
      "(0.000000 +0.000000 i) |1101>\n",
      "(0.000000 +0.000000 i) |0011>\n",
      "(0.000000 +0.000000 i) |1011>\n",
      "(0.000000 +0.000000 i) |0111>\n",
      "(0.000000 +0.000000 i) |1111>\n"
     ]
    }
   ],
   "source": [
    "# Initialize the circuit.\n",
    "Uhf = qf.QuantumCircuit()\n",
    "Uhf.add_gate(qf.make_gate('X', 0, 0))\n",
    "Uhf.add_gate(qf.make_gate('X', 1, 1))\n",
    "\n",
    "# Initialize a QuantumComputer\n",
    "print('\\nThe vaccume state.')\n",
    "QC = qf.QuantumComputer(4)\n",
    "qf.smart_print(QC)\n",
    "\n",
    "# Set the QuantumComputer to the Hartree-Fock state using Uhf\n",
    "print('\\nThe Hartree-Fock state.')\n",
    "QC.apply_circuit(Uhf)\n",
    "qf.smart_print(QC)"
   ]
  },
  {
   "cell_type": "markdown",
   "id": "personalized-battlefield",
   "metadata": {},
   "source": [
    "For H2 there is only one double excitation operator $\\hat{\\kappa} = \\cre{2} \\cre{3} \\ann{1} \\ann{0} - \\cre{0} \\cre{1} \\ann{3} \\ann{2}$ which needs to be considered.\n",
    "\n",
    "> Instantiate and print the operator $\\hat{\\kappa}$"
   ]
  },
  {
   "cell_type": "code",
   "execution_count": 4,
   "id": "cellular-australia",
   "metadata": {},
   "outputs": [
    {
     "name": "stdout",
     "output_type": "stream",
     "text": [
      " +1.000000 ( 2^ 3^ 1 0 )\n",
      " -1.000000 ( 0^ 1^ 3 2 )\n",
      "\n"
     ]
    }
   ],
   "source": [
    "K = qf.SQOperator()\n",
    "K.add_term( 1.0, [2,3,1,0]) \n",
    "K.add_term(-1.0, [0,1,3,2])\n",
    "print(K.str()) "
   ]
  },
  {
   "cell_type": "markdown",
   "id": "confirmed-shopping",
   "metadata": {},
   "source": [
    "We will also need to get the MP denominator for this excitation \n",
    "\n",
    "> get the MP denominator for the excitation corresponding to $\\hat{\\kappa}_\\mu$"
   ]
  },
  {
   "cell_type": "code",
   "execution_count": 5,
   "id": "progressive-revolution",
   "metadata": {},
   "outputs": [
    {
     "name": "stdout",
     "output_type": "stream",
     "text": [
      "\n",
      "Building single particle energies list:\n",
      "---------------------------------------\n",
      "    0     -0.574436558130+0.000000000000j\n",
      "    1     -0.574436558130+0.000000000000j\n",
      "    2     +0.660910050926+0.000000000000j\n",
      "    3     +0.660910050926+0.000000000000j\n",
      "\n",
      "Delta_mu:    -2.4706932181\n"
     ]
    }
   ],
   "source": [
    "orb_e = []\n",
    "\n",
    "print('\\nBuilding single particle energies list:')\n",
    "print('---------------------------------------')\n",
    "qc = qforte.QuantumComputer(len(ref))\n",
    "qc.apply_circuit(Uhf)\n",
    "E0 = qc.direct_op_exp_val(H2mol.get_hamiltonian())\n",
    "\n",
    "for i in range(len(ref)):\n",
    "    qc = qforte.QuantumComputer(4)\n",
    "    qc.apply_circuit(Uhf)\n",
    "    qc.apply_gate(qforte.make_gate('X', i, i))\n",
    "    Ei = qc.direct_op_exp_val(H2mol.get_hamiltonian())\n",
    "\n",
    "    if(i<sum(ref)):\n",
    "        ei = E0 - Ei\n",
    "    else:\n",
    "        ei = Ei - E0\n",
    "\n",
    "    print(f'  {i:3}     {ei:+16.12f}')\n",
    "    orb_e.append(ei)\n",
    "\n",
    "# Define the denominator    \n",
    "delta_mu = np.real(orb_e[0] + orb_e[1] - orb_e[2] - orb_e[3])\n",
    "print(f\"\\nDelta_mu:    {delta_mu:+12.10f}\")"
   ]
  },
  {
   "cell_type": "markdown",
   "id": "current-attack",
   "metadata": {},
   "source": [
    "The PQE residuals can be expressed as the off-diagonal matrix elements of the operator $\\bar{H} = \\hat{U}^\\dagger(\\mathbf{t}) \\hat{\\mathcal{H}} \\hat{U}(\\mathbf{t})$ as $r_\\mu = \\bra{\\Phi_\\mu} \\bar{H} \\ket{\\Phi_0}$.\n",
    "\n",
    "Acting on the reference with the operator $e^{\\theta \\hat{\\kappa}_\\mu}$ yields the state\n",
    "\n",
    "\\begin{equation}\n",
    "\\ket{\\Omega_\\mu(\\theta)} = e^{\\theta \\hat{\\kappa}_\\mu} \\ket{\\Phi_0} = \\cos(\\theta) \\ket{\\Phi_0} + \\sin(\\theta) \\ket{\\Phi_\\mu},\n",
    "\\end{equation}\n",
    "\n",
    "Taking the expectation value of the similarity transformed Hamiltonian with respect to $\\Omega_\\mu(\\theta)$ using $\\theta = \\pi / 4$, and using the fact that the wave function is real, leads to the following equation for the residual elements\n",
    "\n",
    "\\begin{equation}\n",
    "r_\\mu = \\bra{\\Omega_\\mu(\\pi/4)} \\bar{H} \\ket{\\Omega_\\mu(\\pi/4)}\n",
    "- \\frac{1}{2}E_\\mu\n",
    "- \\frac{1}{2}E_0,\n",
    "\\end{equation}\n",
    "\n",
    "where $E_0 = \\bra{\\Phi_0} \\bar{H} \\ket{\\Phi_0}$ and $E_\\mu = \\bra{\\Phi_\\mu} \\bar{H} \\ket{\\Phi_\\mu}$."
   ]
  },
  {
   "cell_type": "markdown",
   "id": "reported-uganda",
   "metadata": {},
   "source": [
    "> Define a function that returns the three quantities needed to calcualte $r_\\mu$ as a function of the cluster amplitude t."
   ]
  },
  {
   "cell_type": "code",
   "execution_count": 8,
   "id": "sticky-federal",
   "metadata": {},
   "outputs": [],
   "source": [
    "def get_energies(t_mu, K, Uhf):\n",
    "    \n",
    "    #First we need build the dUCC unitary\n",
    "    Uducc, phase_pqe = trotterize(K.jw_transform(), factor=t_mu)\n",
    "    \n",
    "    # Initialize a QuantumComputer\n",
    "    QC = qf.QuantumComputer(4)\n",
    "    QC.apply_circuit(Uhf)\n",
    "    QC.apply_circuit(Uducc)\n",
    "\n",
    "    # Get the PQE energy.\n",
    "    E0 = np.real(QC.direct_op_exp_val(H2mol.get_hamiltonian()))\n",
    "\n",
    "    # Get the excited determinannt energy by applying K to the HF state.\n",
    "    QC = qf.QuantumComputer(4)\n",
    "    QC.apply_circuit(Uhf)\n",
    "    QC.apply_operator(K.jw_transform())\n",
    "    QC.apply_circuit(Uducc)\n",
    "    Emu = np.real(QC.direct_op_exp_val(H2mol.get_hamiltonian()))\n",
    "    \n",
    "    # Re-initialize a QuantumComputer.\n",
    "    QC = qf.QuantumComputer(4)\n",
    "    QC.apply_circuit(Uhf)\n",
    "    \n",
    "    # Form the Unitary for e^{ (pi/4) Kmu }\n",
    "    Uomega, phase = trotterize(K.jw_transform(), factor=np.pi/4)\n",
    "    QC.apply_circuit(Uomega)\n",
    "\n",
    "    # Get the mixed state energy\n",
    "    QC.apply_circuit(Uducc)\n",
    "    Eomega = np.real(QC.direct_op_exp_val(H2mol.get_hamiltonian()))\n",
    "\n",
    "    return Eomega, Emu, E0"
   ]
  },
  {
   "cell_type": "markdown",
   "id": "olive-category",
   "metadata": {},
   "source": [
    "Now we can write a procedure that implements PQE!"
   ]
  },
  {
   "cell_type": "code",
   "execution_count": 9,
   "id": "bottom-offer",
   "metadata": {},
   "outputs": [
    {
     "name": "stdout",
     "output_type": "stream",
     "text": [
      "   Iteration       Epqe                  Emu            E_omega_mu            r_mu\n",
      "--------------------------------------------------------------------------------------------\n",
      "        0       -1.1161514489       +0.4388389026     -0.1568847366       +0.1817715366\n",
      "        1       -1.1343997677       +0.4570872214     -0.2728388683       +0.0658174049\n",
      "        2       -1.1367756303       +0.4594630840     -0.3153082198       +0.0233480534\n",
      "        3       -1.1370743384       +0.4597617921     -0.3303959491       +0.0082603240\n",
      "        4       -1.1371117228       +0.4597991765     -0.3357348320       +0.0029214411\n",
      "        5       -1.1371163989       +0.4598038526     -0.3376230863       +0.0010331869\n",
      "        6       -1.1371169837       +0.4598044374     -0.3382908818       +0.0003653914\n",
      "        7       -1.1371170569       +0.4598045106     -0.3385270509       +0.0001292223\n",
      "        8       -1.1371170660       +0.4598045197     -0.3386105731       +0.0000457000\n",
      "        9       -1.1371170672       +0.4598045209     -0.3386401111       +0.0000161620\n",
      "       10       -1.1371170673       +0.4598045210     -0.3386505574       +0.0000057158\n",
      "\n",
      "\n",
      " Efci:   -1.1371170673\n"
     ]
    }
   ],
   "source": [
    "# Defie the number of PQE iterations. \n",
    "pqe_iter = 11\n",
    "\n",
    "t_mu = 0\n",
    "\n",
    "print(f\"   Iteration       Epqe                  Emu            E_omega_mu            r_mu\")\n",
    "print(f\"--------------------------------------------------------------------------------------------\")\n",
    "\n",
    "for n in range(pqe_iter):\n",
    "    \n",
    "    Eomega_mu, Emu, E0 = get_energies(t_mu, K, Uhf)\n",
    "    \n",
    "    r_mu = Eomega_mu - 0.5*Emu - 0.5*E0\n",
    "    \n",
    "    print(f\"       {n:2}       {E0:+12.10f}       {Emu:+12.10f}     {Eomega_mu:+12.10f}       {r_mu:+12.10f}\")\n",
    "    \n",
    "    # Update the amplitude.\n",
    "    t_mu += r_mu/delta_mu\n",
    "    \n",
    "\n",
    "    \n",
    "print(f'\\n\\n Efci:   {H2mol.get_fci_energy():+12.10f}')"
   ]
  }
 ],
 "metadata": {
  "kernelspec": {
   "display_name": "Python [conda env:opferm2] *",
   "language": "python",
   "name": "conda-env-opferm2-py"
  },
  "language_info": {
   "codemirror_mode": {
    "name": "ipython",
    "version": 3
   },
   "file_extension": ".py",
   "mimetype": "text/x-python",
   "name": "python",
   "nbconvert_exporter": "python",
   "pygments_lexer": "ipython3",
   "version": "3.7.6"
  }
 },
 "nbformat": 4,
 "nbformat_minor": 5
}
